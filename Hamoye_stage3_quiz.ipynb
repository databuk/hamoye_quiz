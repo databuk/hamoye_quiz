{
 "cells": [
  {
   "cell_type": "code",
   "execution_count": 164,
   "id": "63439ede",
   "metadata": {},
   "outputs": [],
   "source": [
    "import pandas as pd\n",
    "import numpy as np\n",
    "from sklearn.preprocessing import MinMaxScaler, LabelEncoder\n",
    "from sklearn.model_selection import train_test_split\n",
    "from sklearn.metrics import accuracy_score\n",
    "from imblearn.over_sampling import SMOTE"
   ]
  },
  {
   "cell_type": "code",
   "execution_count": 165,
   "id": "6d264711",
   "metadata": {},
   "outputs": [],
   "source": [
    "df = pd.read_csv('Data_for_UCI_named.csv')"
   ]
  },
  {
   "cell_type": "code",
   "execution_count": 166,
   "id": "12e4d9e1",
   "metadata": {},
   "outputs": [
    {
     "data": {
      "text/html": [
       "<div>\n",
       "<style scoped>\n",
       "    .dataframe tbody tr th:only-of-type {\n",
       "        vertical-align: middle;\n",
       "    }\n",
       "\n",
       "    .dataframe tbody tr th {\n",
       "        vertical-align: top;\n",
       "    }\n",
       "\n",
       "    .dataframe thead th {\n",
       "        text-align: right;\n",
       "    }\n",
       "</style>\n",
       "<table border=\"1\" class=\"dataframe\">\n",
       "  <thead>\n",
       "    <tr style=\"text-align: right;\">\n",
       "      <th></th>\n",
       "      <th>tau1</th>\n",
       "      <th>tau2</th>\n",
       "      <th>tau3</th>\n",
       "      <th>tau4</th>\n",
       "      <th>p1</th>\n",
       "      <th>p2</th>\n",
       "      <th>p3</th>\n",
       "      <th>p4</th>\n",
       "      <th>g1</th>\n",
       "      <th>g2</th>\n",
       "      <th>g3</th>\n",
       "      <th>g4</th>\n",
       "      <th>stab</th>\n",
       "      <th>stabf</th>\n",
       "    </tr>\n",
       "  </thead>\n",
       "  <tbody>\n",
       "    <tr>\n",
       "      <th>0</th>\n",
       "      <td>2.959060</td>\n",
       "      <td>3.079885</td>\n",
       "      <td>8.381025</td>\n",
       "      <td>9.780754</td>\n",
       "      <td>3.763085</td>\n",
       "      <td>-0.782604</td>\n",
       "      <td>-1.257395</td>\n",
       "      <td>-1.723086</td>\n",
       "      <td>0.650456</td>\n",
       "      <td>0.859578</td>\n",
       "      <td>0.887445</td>\n",
       "      <td>0.958034</td>\n",
       "      <td>0.055347</td>\n",
       "      <td>unstable</td>\n",
       "    </tr>\n",
       "    <tr>\n",
       "      <th>1</th>\n",
       "      <td>9.304097</td>\n",
       "      <td>4.902524</td>\n",
       "      <td>3.047541</td>\n",
       "      <td>1.369357</td>\n",
       "      <td>5.067812</td>\n",
       "      <td>-1.940058</td>\n",
       "      <td>-1.872742</td>\n",
       "      <td>-1.255012</td>\n",
       "      <td>0.413441</td>\n",
       "      <td>0.862414</td>\n",
       "      <td>0.562139</td>\n",
       "      <td>0.781760</td>\n",
       "      <td>-0.005957</td>\n",
       "      <td>stable</td>\n",
       "    </tr>\n",
       "    <tr>\n",
       "      <th>2</th>\n",
       "      <td>8.971707</td>\n",
       "      <td>8.848428</td>\n",
       "      <td>3.046479</td>\n",
       "      <td>1.214518</td>\n",
       "      <td>3.405158</td>\n",
       "      <td>-1.207456</td>\n",
       "      <td>-1.277210</td>\n",
       "      <td>-0.920492</td>\n",
       "      <td>0.163041</td>\n",
       "      <td>0.766689</td>\n",
       "      <td>0.839444</td>\n",
       "      <td>0.109853</td>\n",
       "      <td>0.003471</td>\n",
       "      <td>unstable</td>\n",
       "    </tr>\n",
       "    <tr>\n",
       "      <th>3</th>\n",
       "      <td>0.716415</td>\n",
       "      <td>7.669600</td>\n",
       "      <td>4.486641</td>\n",
       "      <td>2.340563</td>\n",
       "      <td>3.963791</td>\n",
       "      <td>-1.027473</td>\n",
       "      <td>-1.938944</td>\n",
       "      <td>-0.997374</td>\n",
       "      <td>0.446209</td>\n",
       "      <td>0.976744</td>\n",
       "      <td>0.929381</td>\n",
       "      <td>0.362718</td>\n",
       "      <td>0.028871</td>\n",
       "      <td>unstable</td>\n",
       "    </tr>\n",
       "    <tr>\n",
       "      <th>4</th>\n",
       "      <td>3.134112</td>\n",
       "      <td>7.608772</td>\n",
       "      <td>4.943759</td>\n",
       "      <td>9.857573</td>\n",
       "      <td>3.525811</td>\n",
       "      <td>-1.125531</td>\n",
       "      <td>-1.845975</td>\n",
       "      <td>-0.554305</td>\n",
       "      <td>0.797110</td>\n",
       "      <td>0.455450</td>\n",
       "      <td>0.656947</td>\n",
       "      <td>0.820923</td>\n",
       "      <td>0.049860</td>\n",
       "      <td>unstable</td>\n",
       "    </tr>\n",
       "  </tbody>\n",
       "</table>\n",
       "</div>"
      ],
      "text/plain": [
       "       tau1      tau2      tau3      tau4        p1        p2        p3  \\\n",
       "0  2.959060  3.079885  8.381025  9.780754  3.763085 -0.782604 -1.257395   \n",
       "1  9.304097  4.902524  3.047541  1.369357  5.067812 -1.940058 -1.872742   \n",
       "2  8.971707  8.848428  3.046479  1.214518  3.405158 -1.207456 -1.277210   \n",
       "3  0.716415  7.669600  4.486641  2.340563  3.963791 -1.027473 -1.938944   \n",
       "4  3.134112  7.608772  4.943759  9.857573  3.525811 -1.125531 -1.845975   \n",
       "\n",
       "         p4        g1        g2        g3        g4      stab     stabf  \n",
       "0 -1.723086  0.650456  0.859578  0.887445  0.958034  0.055347  unstable  \n",
       "1 -1.255012  0.413441  0.862414  0.562139  0.781760 -0.005957    stable  \n",
       "2 -0.920492  0.163041  0.766689  0.839444  0.109853  0.003471  unstable  \n",
       "3 -0.997374  0.446209  0.976744  0.929381  0.362718  0.028871  unstable  \n",
       "4 -0.554305  0.797110  0.455450  0.656947  0.820923  0.049860  unstable  "
      ]
     },
     "execution_count": 166,
     "metadata": {},
     "output_type": "execute_result"
    }
   ],
   "source": [
    "df.head()"
   ]
  },
  {
   "cell_type": "code",
   "execution_count": 167,
   "id": "d6708be2",
   "metadata": {},
   "outputs": [
    {
     "name": "stdout",
     "output_type": "stream",
     "text": [
      "<class 'pandas.core.frame.DataFrame'>\n",
      "RangeIndex: 10000 entries, 0 to 9999\n",
      "Data columns (total 14 columns):\n",
      " #   Column  Non-Null Count  Dtype  \n",
      "---  ------  --------------  -----  \n",
      " 0   tau1    10000 non-null  float64\n",
      " 1   tau2    10000 non-null  float64\n",
      " 2   tau3    10000 non-null  float64\n",
      " 3   tau4    10000 non-null  float64\n",
      " 4   p1      10000 non-null  float64\n",
      " 5   p2      10000 non-null  float64\n",
      " 6   p3      10000 non-null  float64\n",
      " 7   p4      10000 non-null  float64\n",
      " 8   g1      10000 non-null  float64\n",
      " 9   g2      10000 non-null  float64\n",
      " 10  g3      10000 non-null  float64\n",
      " 11  g4      10000 non-null  float64\n",
      " 12  stab    10000 non-null  float64\n",
      " 13  stabf   10000 non-null  object \n",
      "dtypes: float64(13), object(1)\n",
      "memory usage: 1.1+ MB\n"
     ]
    }
   ],
   "source": [
    "df.info()"
   ]
  },
  {
   "cell_type": "code",
   "execution_count": 168,
   "id": "5a16ea1e",
   "metadata": {},
   "outputs": [],
   "source": [
    "#pip install xgboost"
   ]
  },
  {
   "cell_type": "code",
   "execution_count": 169,
   "id": "b246a0ea",
   "metadata": {},
   "outputs": [],
   "source": [
    "from xgboost import XGBClassifier"
   ]
  },
  {
   "cell_type": "code",
   "execution_count": 170,
   "id": "717d9a22",
   "metadata": {},
   "outputs": [],
   "source": [
    "precision = 255/1380"
   ]
  },
  {
   "cell_type": "code",
   "execution_count": 171,
   "id": "185ca96b",
   "metadata": {},
   "outputs": [],
   "source": [
    "recall = 255/300"
   ]
  },
  {
   "cell_type": "code",
   "execution_count": 172,
   "id": "c72f4f6e",
   "metadata": {},
   "outputs": [
    {
     "data": {
      "text/plain": [
       "0.30357142857142855"
      ]
     },
     "execution_count": 172,
     "metadata": {},
     "output_type": "execute_result"
    }
   ],
   "source": [
    "((precision * recall)/(precision + recall)) * 2"
   ]
  },
  {
   "cell_type": "code",
   "execution_count": 173,
   "id": "ad60c88c",
   "metadata": {},
   "outputs": [],
   "source": [
    "encoder = LabelEncoder()\n",
    "y = encoder.fit_transform(df[\"stabf\"])"
   ]
  },
  {
   "cell_type": "code",
   "execution_count": 174,
   "id": "5bd08c28",
   "metadata": {},
   "outputs": [],
   "source": [
    "X = df.drop(columns=\"stabf\")"
   ]
  },
  {
   "cell_type": "code",
   "execution_count": 175,
   "id": "6a2d9e31",
   "metadata": {},
   "outputs": [],
   "source": [
    "X_train, X_test, y_train, y_test= train_test_split(X, y, test_size=0.2, random_state=1)"
   ]
  },
  {
   "cell_type": "code",
   "execution_count": 176,
   "id": "fdf8acb5",
   "metadata": {},
   "outputs": [],
   "source": [
    "smote = SMOTE(random_state=1)\n",
    "X_train_balanced, y_balanced = smote.fit_resample(X_train, y_train)"
   ]
  },
  {
   "cell_type": "code",
   "execution_count": null,
   "id": "1e74abd1",
   "metadata": {},
   "outputs": [],
   "source": []
  },
  {
   "cell_type": "code",
   "execution_count": 177,
   "id": "4b555cbc",
   "metadata": {},
   "outputs": [],
   "source": [
    "scaler = MinMaxScaler()"
   ]
  },
  {
   "cell_type": "code",
   "execution_count": 178,
   "id": "edcae49c",
   "metadata": {},
   "outputs": [],
   "source": [
    "normalised_df = scaler.fit_transform(X_train_balanced.drop(columns=[\"stab\"]))"
   ]
  },
  {
   "cell_type": "code",
   "execution_count": 179,
   "id": "8eecc66b",
   "metadata": {},
   "outputs": [
    {
     "data": {
      "text/html": [
       "<div>\n",
       "<style scoped>\n",
       "    .dataframe tbody tr th:only-of-type {\n",
       "        vertical-align: middle;\n",
       "    }\n",
       "\n",
       "    .dataframe tbody tr th {\n",
       "        vertical-align: top;\n",
       "    }\n",
       "\n",
       "    .dataframe thead th {\n",
       "        text-align: right;\n",
       "    }\n",
       "</style>\n",
       "<table border=\"1\" class=\"dataframe\">\n",
       "  <thead>\n",
       "    <tr style=\"text-align: right;\">\n",
       "      <th></th>\n",
       "      <th>tau1</th>\n",
       "      <th>tau2</th>\n",
       "      <th>tau3</th>\n",
       "      <th>tau4</th>\n",
       "      <th>p1</th>\n",
       "      <th>p2</th>\n",
       "      <th>p3</th>\n",
       "      <th>p4</th>\n",
       "      <th>g1</th>\n",
       "      <th>g2</th>\n",
       "      <th>g3</th>\n",
       "      <th>g4</th>\n",
       "    </tr>\n",
       "  </thead>\n",
       "  <tbody>\n",
       "    <tr>\n",
       "      <th>0</th>\n",
       "      <td>0.605895</td>\n",
       "      <td>0.214898</td>\n",
       "      <td>0.686826</td>\n",
       "      <td>0.945002</td>\n",
       "      <td>0.454782</td>\n",
       "      <td>0.516700</td>\n",
       "      <td>0.874552</td>\n",
       "      <td>0.255448</td>\n",
       "      <td>0.545528</td>\n",
       "      <td>0.598331</td>\n",
       "      <td>0.669360</td>\n",
       "      <td>0.642234</td>\n",
       "    </tr>\n",
       "    <tr>\n",
       "      <th>1</th>\n",
       "      <td>0.481097</td>\n",
       "      <td>0.525305</td>\n",
       "      <td>0.797470</td>\n",
       "      <td>0.027436</td>\n",
       "      <td>0.616162</td>\n",
       "      <td>0.479547</td>\n",
       "      <td>0.065178</td>\n",
       "      <td>0.641255</td>\n",
       "      <td>0.414248</td>\n",
       "      <td>0.049680</td>\n",
       "      <td>0.912824</td>\n",
       "      <td>0.083403</td>\n",
       "    </tr>\n",
       "    <tr>\n",
       "      <th>2</th>\n",
       "      <td>0.075724</td>\n",
       "      <td>0.874245</td>\n",
       "      <td>0.355155</td>\n",
       "      <td>0.835240</td>\n",
       "      <td>0.474432</td>\n",
       "      <td>0.640493</td>\n",
       "      <td>0.697645</td>\n",
       "      <td>0.252484</td>\n",
       "      <td>0.903588</td>\n",
       "      <td>0.919622</td>\n",
       "      <td>0.198830</td>\n",
       "      <td>0.642306</td>\n",
       "    </tr>\n",
       "    <tr>\n",
       "      <th>3</th>\n",
       "      <td>0.736693</td>\n",
       "      <td>0.652439</td>\n",
       "      <td>0.873580</td>\n",
       "      <td>0.171161</td>\n",
       "      <td>0.362461</td>\n",
       "      <td>0.278625</td>\n",
       "      <td>0.940452</td>\n",
       "      <td>0.691134</td>\n",
       "      <td>0.221930</td>\n",
       "      <td>0.893734</td>\n",
       "      <td>0.963154</td>\n",
       "      <td>0.579607</td>\n",
       "    </tr>\n",
       "    <tr>\n",
       "      <th>4</th>\n",
       "      <td>0.692014</td>\n",
       "      <td>0.088023</td>\n",
       "      <td>0.589553</td>\n",
       "      <td>0.764197</td>\n",
       "      <td>0.220544</td>\n",
       "      <td>0.718310</td>\n",
       "      <td>0.911640</td>\n",
       "      <td>0.685474</td>\n",
       "      <td>0.983833</td>\n",
       "      <td>0.701163</td>\n",
       "      <td>0.828559</td>\n",
       "      <td>0.121206</td>\n",
       "    </tr>\n",
       "    <tr>\n",
       "      <th>...</th>\n",
       "      <td>...</td>\n",
       "      <td>...</td>\n",
       "      <td>...</td>\n",
       "      <td>...</td>\n",
       "      <td>...</td>\n",
       "      <td>...</td>\n",
       "      <td>...</td>\n",
       "      <td>...</td>\n",
       "      <td>...</td>\n",
       "      <td>...</td>\n",
       "      <td>...</td>\n",
       "      <td>...</td>\n",
       "    </tr>\n",
       "    <tr>\n",
       "      <th>10179</th>\n",
       "      <td>0.369184</td>\n",
       "      <td>0.152812</td>\n",
       "      <td>0.645686</td>\n",
       "      <td>0.035014</td>\n",
       "      <td>0.320824</td>\n",
       "      <td>0.717928</td>\n",
       "      <td>0.499637</td>\n",
       "      <td>0.811579</td>\n",
       "      <td>0.318140</td>\n",
       "      <td>0.403996</td>\n",
       "      <td>0.492178</td>\n",
       "      <td>0.714808</td>\n",
       "    </tr>\n",
       "    <tr>\n",
       "      <th>10180</th>\n",
       "      <td>0.052065</td>\n",
       "      <td>0.235590</td>\n",
       "      <td>0.836205</td>\n",
       "      <td>0.823570</td>\n",
       "      <td>0.277729</td>\n",
       "      <td>0.835985</td>\n",
       "      <td>0.453867</td>\n",
       "      <td>0.862338</td>\n",
       "      <td>0.896110</td>\n",
       "      <td>0.330280</td>\n",
       "      <td>0.318421</td>\n",
       "      <td>0.172776</td>\n",
       "    </tr>\n",
       "    <tr>\n",
       "      <th>10181</th>\n",
       "      <td>0.475960</td>\n",
       "      <td>0.097532</td>\n",
       "      <td>0.035341</td>\n",
       "      <td>0.317766</td>\n",
       "      <td>0.271952</td>\n",
       "      <td>0.508135</td>\n",
       "      <td>0.792222</td>\n",
       "      <td>0.868273</td>\n",
       "      <td>0.667876</td>\n",
       "      <td>0.354695</td>\n",
       "      <td>0.527145</td>\n",
       "      <td>0.066138</td>\n",
       "    </tr>\n",
       "    <tr>\n",
       "      <th>10182</th>\n",
       "      <td>0.400322</td>\n",
       "      <td>0.075186</td>\n",
       "      <td>0.126790</td>\n",
       "      <td>0.915708</td>\n",
       "      <td>0.576023</td>\n",
       "      <td>0.714692</td>\n",
       "      <td>0.015876</td>\n",
       "      <td>0.570039</td>\n",
       "      <td>0.234404</td>\n",
       "      <td>0.472140</td>\n",
       "      <td>0.141254</td>\n",
       "      <td>0.831373</td>\n",
       "    </tr>\n",
       "    <tr>\n",
       "      <th>10183</th>\n",
       "      <td>0.507215</td>\n",
       "      <td>0.734749</td>\n",
       "      <td>0.165707</td>\n",
       "      <td>0.149196</td>\n",
       "      <td>0.628752</td>\n",
       "      <td>0.588841</td>\n",
       "      <td>0.152293</td>\n",
       "      <td>0.408928</td>\n",
       "      <td>0.507761</td>\n",
       "      <td>0.396911</td>\n",
       "      <td>0.538046</td>\n",
       "      <td>0.513392</td>\n",
       "    </tr>\n",
       "  </tbody>\n",
       "</table>\n",
       "<p>10184 rows × 12 columns</p>\n",
       "</div>"
      ],
      "text/plain": [
       "           tau1      tau2      tau3      tau4        p1        p2        p3  \\\n",
       "0      0.605895  0.214898  0.686826  0.945002  0.454782  0.516700  0.874552   \n",
       "1      0.481097  0.525305  0.797470  0.027436  0.616162  0.479547  0.065178   \n",
       "2      0.075724  0.874245  0.355155  0.835240  0.474432  0.640493  0.697645   \n",
       "3      0.736693  0.652439  0.873580  0.171161  0.362461  0.278625  0.940452   \n",
       "4      0.692014  0.088023  0.589553  0.764197  0.220544  0.718310  0.911640   \n",
       "...         ...       ...       ...       ...       ...       ...       ...   \n",
       "10179  0.369184  0.152812  0.645686  0.035014  0.320824  0.717928  0.499637   \n",
       "10180  0.052065  0.235590  0.836205  0.823570  0.277729  0.835985  0.453867   \n",
       "10181  0.475960  0.097532  0.035341  0.317766  0.271952  0.508135  0.792222   \n",
       "10182  0.400322  0.075186  0.126790  0.915708  0.576023  0.714692  0.015876   \n",
       "10183  0.507215  0.734749  0.165707  0.149196  0.628752  0.588841  0.152293   \n",
       "\n",
       "             p4        g1        g2        g3        g4  \n",
       "0      0.255448  0.545528  0.598331  0.669360  0.642234  \n",
       "1      0.641255  0.414248  0.049680  0.912824  0.083403  \n",
       "2      0.252484  0.903588  0.919622  0.198830  0.642306  \n",
       "3      0.691134  0.221930  0.893734  0.963154  0.579607  \n",
       "4      0.685474  0.983833  0.701163  0.828559  0.121206  \n",
       "...         ...       ...       ...       ...       ...  \n",
       "10179  0.811579  0.318140  0.403996  0.492178  0.714808  \n",
       "10180  0.862338  0.896110  0.330280  0.318421  0.172776  \n",
       "10181  0.868273  0.667876  0.354695  0.527145  0.066138  \n",
       "10182  0.570039  0.234404  0.472140  0.141254  0.831373  \n",
       "10183  0.408928  0.507761  0.396911  0.538046  0.513392  \n",
       "\n",
       "[10184 rows x 12 columns]"
      ]
     },
     "execution_count": 179,
     "metadata": {},
     "output_type": "execute_result"
    }
   ],
   "source": [
    "normalised_train_df =pd.DataFrame(normalised_df, columns=X_train.drop(columns=[\"stab\"]).columns)\n",
    "normalised_train_df"
   ]
  },
  {
   "cell_type": "code",
   "execution_count": 180,
   "id": "baa23072",
   "metadata": {},
   "outputs": [],
   "source": [
    "normalised_df_a = scaler.fit_transform(X_test.drop(columns=[\"stab\"]))"
   ]
  },
  {
   "cell_type": "code",
   "execution_count": 181,
   "id": "2d4d7b77",
   "metadata": {},
   "outputs": [
    {
     "data": {
      "text/html": [
       "<div>\n",
       "<style scoped>\n",
       "    .dataframe tbody tr th:only-of-type {\n",
       "        vertical-align: middle;\n",
       "    }\n",
       "\n",
       "    .dataframe tbody tr th {\n",
       "        vertical-align: top;\n",
       "    }\n",
       "\n",
       "    .dataframe thead th {\n",
       "        text-align: right;\n",
       "    }\n",
       "</style>\n",
       "<table border=\"1\" class=\"dataframe\">\n",
       "  <thead>\n",
       "    <tr style=\"text-align: right;\">\n",
       "      <th></th>\n",
       "      <th>tau1</th>\n",
       "      <th>tau2</th>\n",
       "      <th>tau3</th>\n",
       "      <th>tau4</th>\n",
       "      <th>p1</th>\n",
       "      <th>p2</th>\n",
       "      <th>p3</th>\n",
       "      <th>p4</th>\n",
       "      <th>g1</th>\n",
       "      <th>g2</th>\n",
       "      <th>g3</th>\n",
       "      <th>g4</th>\n",
       "    </tr>\n",
       "  </thead>\n",
       "  <tbody>\n",
       "    <tr>\n",
       "      <th>0</th>\n",
       "      <td>0.671252</td>\n",
       "      <td>0.380399</td>\n",
       "      <td>0.932452</td>\n",
       "      <td>0.821045</td>\n",
       "      <td>0.564170</td>\n",
       "      <td>0.068342</td>\n",
       "      <td>0.272735</td>\n",
       "      <td>0.954297</td>\n",
       "      <td>0.238332</td>\n",
       "      <td>0.837878</td>\n",
       "      <td>0.065357</td>\n",
       "      <td>0.813402</td>\n",
       "    </tr>\n",
       "    <tr>\n",
       "      <th>1</th>\n",
       "      <td>0.557835</td>\n",
       "      <td>0.607517</td>\n",
       "      <td>0.445310</td>\n",
       "      <td>0.349373</td>\n",
       "      <td>0.446699</td>\n",
       "      <td>0.193781</td>\n",
       "      <td>0.621643</td>\n",
       "      <td>0.798343</td>\n",
       "      <td>0.028656</td>\n",
       "      <td>0.385619</td>\n",
       "      <td>0.908240</td>\n",
       "      <td>0.854206</td>\n",
       "    </tr>\n",
       "    <tr>\n",
       "      <th>2</th>\n",
       "      <td>0.186912</td>\n",
       "      <td>0.408961</td>\n",
       "      <td>0.245059</td>\n",
       "      <td>0.504567</td>\n",
       "      <td>0.312847</td>\n",
       "      <td>0.531895</td>\n",
       "      <td>0.732037</td>\n",
       "      <td>0.712673</td>\n",
       "      <td>0.920588</td>\n",
       "      <td>0.083845</td>\n",
       "      <td>0.688192</td>\n",
       "      <td>0.014302</td>\n",
       "    </tr>\n",
       "    <tr>\n",
       "      <th>3</th>\n",
       "      <td>0.475237</td>\n",
       "      <td>0.179987</td>\n",
       "      <td>0.606932</td>\n",
       "      <td>0.008142</td>\n",
       "      <td>0.629601</td>\n",
       "      <td>0.026479</td>\n",
       "      <td>0.616940</td>\n",
       "      <td>0.474739</td>\n",
       "      <td>0.523120</td>\n",
       "      <td>0.016181</td>\n",
       "      <td>0.396978</td>\n",
       "      <td>0.805067</td>\n",
       "    </tr>\n",
       "    <tr>\n",
       "      <th>4</th>\n",
       "      <td>0.752304</td>\n",
       "      <td>0.914530</td>\n",
       "      <td>0.524585</td>\n",
       "      <td>0.993143</td>\n",
       "      <td>0.460153</td>\n",
       "      <td>0.497346</td>\n",
       "      <td>0.442973</td>\n",
       "      <td>0.637126</td>\n",
       "      <td>0.538520</td>\n",
       "      <td>0.074806</td>\n",
       "      <td>0.776051</td>\n",
       "      <td>0.263381</td>\n",
       "    </tr>\n",
       "    <tr>\n",
       "      <th>...</th>\n",
       "      <td>...</td>\n",
       "      <td>...</td>\n",
       "      <td>...</td>\n",
       "      <td>...</td>\n",
       "      <td>...</td>\n",
       "      <td>...</td>\n",
       "      <td>...</td>\n",
       "      <td>...</td>\n",
       "      <td>...</td>\n",
       "      <td>...</td>\n",
       "      <td>...</td>\n",
       "      <td>...</td>\n",
       "    </tr>\n",
       "    <tr>\n",
       "      <th>1995</th>\n",
       "      <td>0.823453</td>\n",
       "      <td>0.304664</td>\n",
       "      <td>0.101662</td>\n",
       "      <td>0.870227</td>\n",
       "      <td>0.535453</td>\n",
       "      <td>0.267447</td>\n",
       "      <td>0.712685</td>\n",
       "      <td>0.393241</td>\n",
       "      <td>0.639562</td>\n",
       "      <td>0.466683</td>\n",
       "      <td>0.135352</td>\n",
       "      <td>0.129551</td>\n",
       "    </tr>\n",
       "    <tr>\n",
       "      <th>1996</th>\n",
       "      <td>0.187240</td>\n",
       "      <td>0.266153</td>\n",
       "      <td>0.797056</td>\n",
       "      <td>0.596805</td>\n",
       "      <td>0.457782</td>\n",
       "      <td>0.597795</td>\n",
       "      <td>0.786107</td>\n",
       "      <td>0.200095</td>\n",
       "      <td>0.774560</td>\n",
       "      <td>0.758461</td>\n",
       "      <td>0.193673</td>\n",
       "      <td>0.184136</td>\n",
       "    </tr>\n",
       "    <tr>\n",
       "      <th>1997</th>\n",
       "      <td>0.773700</td>\n",
       "      <td>0.019448</td>\n",
       "      <td>0.023670</td>\n",
       "      <td>0.652923</td>\n",
       "      <td>0.205489</td>\n",
       "      <td>0.958455</td>\n",
       "      <td>0.526551</td>\n",
       "      <td>0.782644</td>\n",
       "      <td>0.142000</td>\n",
       "      <td>0.536689</td>\n",
       "      <td>0.665583</td>\n",
       "      <td>0.881163</td>\n",
       "    </tr>\n",
       "    <tr>\n",
       "      <th>1998</th>\n",
       "      <td>0.174987</td>\n",
       "      <td>0.555455</td>\n",
       "      <td>0.431208</td>\n",
       "      <td>0.620956</td>\n",
       "      <td>0.271870</td>\n",
       "      <td>0.712639</td>\n",
       "      <td>0.507950</td>\n",
       "      <td>0.867084</td>\n",
       "      <td>0.940038</td>\n",
       "      <td>0.729906</td>\n",
       "      <td>0.107186</td>\n",
       "      <td>0.268509</td>\n",
       "    </tr>\n",
       "    <tr>\n",
       "      <th>1999</th>\n",
       "      <td>0.100467</td>\n",
       "      <td>0.935708</td>\n",
       "      <td>0.580987</td>\n",
       "      <td>0.934386</td>\n",
       "      <td>0.609863</td>\n",
       "      <td>0.070128</td>\n",
       "      <td>0.273733</td>\n",
       "      <td>0.827722</td>\n",
       "      <td>0.641747</td>\n",
       "      <td>0.234611</td>\n",
       "      <td>0.501017</td>\n",
       "      <td>0.843524</td>\n",
       "    </tr>\n",
       "  </tbody>\n",
       "</table>\n",
       "<p>2000 rows × 12 columns</p>\n",
       "</div>"
      ],
      "text/plain": [
       "          tau1      tau2      tau3      tau4        p1        p2        p3  \\\n",
       "0     0.671252  0.380399  0.932452  0.821045  0.564170  0.068342  0.272735   \n",
       "1     0.557835  0.607517  0.445310  0.349373  0.446699  0.193781  0.621643   \n",
       "2     0.186912  0.408961  0.245059  0.504567  0.312847  0.531895  0.732037   \n",
       "3     0.475237  0.179987  0.606932  0.008142  0.629601  0.026479  0.616940   \n",
       "4     0.752304  0.914530  0.524585  0.993143  0.460153  0.497346  0.442973   \n",
       "...        ...       ...       ...       ...       ...       ...       ...   \n",
       "1995  0.823453  0.304664  0.101662  0.870227  0.535453  0.267447  0.712685   \n",
       "1996  0.187240  0.266153  0.797056  0.596805  0.457782  0.597795  0.786107   \n",
       "1997  0.773700  0.019448  0.023670  0.652923  0.205489  0.958455  0.526551   \n",
       "1998  0.174987  0.555455  0.431208  0.620956  0.271870  0.712639  0.507950   \n",
       "1999  0.100467  0.935708  0.580987  0.934386  0.609863  0.070128  0.273733   \n",
       "\n",
       "            p4        g1        g2        g3        g4  \n",
       "0     0.954297  0.238332  0.837878  0.065357  0.813402  \n",
       "1     0.798343  0.028656  0.385619  0.908240  0.854206  \n",
       "2     0.712673  0.920588  0.083845  0.688192  0.014302  \n",
       "3     0.474739  0.523120  0.016181  0.396978  0.805067  \n",
       "4     0.637126  0.538520  0.074806  0.776051  0.263381  \n",
       "...        ...       ...       ...       ...       ...  \n",
       "1995  0.393241  0.639562  0.466683  0.135352  0.129551  \n",
       "1996  0.200095  0.774560  0.758461  0.193673  0.184136  \n",
       "1997  0.782644  0.142000  0.536689  0.665583  0.881163  \n",
       "1998  0.867084  0.940038  0.729906  0.107186  0.268509  \n",
       "1999  0.827722  0.641747  0.234611  0.501017  0.843524  \n",
       "\n",
       "[2000 rows x 12 columns]"
      ]
     },
     "execution_count": 181,
     "metadata": {},
     "output_type": "execute_result"
    }
   ],
   "source": [
    "normalised_test_df =pd.DataFrame(normalised_df_a, columns=X_test.drop(columns=[\"stab\"]).columns)\n",
    "normalised_test_df"
   ]
  },
  {
   "cell_type": "code",
   "execution_count": 182,
   "id": "817ee105",
   "metadata": {},
   "outputs": [],
   "source": [
    "from sklearn.ensemble import RandomForestClassifier"
   ]
  },
  {
   "cell_type": "code",
   "execution_count": 183,
   "id": "7c7db2ef",
   "metadata": {},
   "outputs": [
    {
     "data": {
      "text/html": [
       "<style>#sk-container-id-9 {color: black;background-color: white;}#sk-container-id-9 pre{padding: 0;}#sk-container-id-9 div.sk-toggleable {background-color: white;}#sk-container-id-9 label.sk-toggleable__label {cursor: pointer;display: block;width: 100%;margin-bottom: 0;padding: 0.3em;box-sizing: border-box;text-align: center;}#sk-container-id-9 label.sk-toggleable__label-arrow:before {content: \"▸\";float: left;margin-right: 0.25em;color: #696969;}#sk-container-id-9 label.sk-toggleable__label-arrow:hover:before {color: black;}#sk-container-id-9 div.sk-estimator:hover label.sk-toggleable__label-arrow:before {color: black;}#sk-container-id-9 div.sk-toggleable__content {max-height: 0;max-width: 0;overflow: hidden;text-align: left;background-color: #f0f8ff;}#sk-container-id-9 div.sk-toggleable__content pre {margin: 0.2em;color: black;border-radius: 0.25em;background-color: #f0f8ff;}#sk-container-id-9 input.sk-toggleable__control:checked~div.sk-toggleable__content {max-height: 200px;max-width: 100%;overflow: auto;}#sk-container-id-9 input.sk-toggleable__control:checked~label.sk-toggleable__label-arrow:before {content: \"▾\";}#sk-container-id-9 div.sk-estimator input.sk-toggleable__control:checked~label.sk-toggleable__label {background-color: #d4ebff;}#sk-container-id-9 div.sk-label input.sk-toggleable__control:checked~label.sk-toggleable__label {background-color: #d4ebff;}#sk-container-id-9 input.sk-hidden--visually {border: 0;clip: rect(1px 1px 1px 1px);clip: rect(1px, 1px, 1px, 1px);height: 1px;margin: -1px;overflow: hidden;padding: 0;position: absolute;width: 1px;}#sk-container-id-9 div.sk-estimator {font-family: monospace;background-color: #f0f8ff;border: 1px dotted black;border-radius: 0.25em;box-sizing: border-box;margin-bottom: 0.5em;}#sk-container-id-9 div.sk-estimator:hover {background-color: #d4ebff;}#sk-container-id-9 div.sk-parallel-item::after {content: \"\";width: 100%;border-bottom: 1px solid gray;flex-grow: 1;}#sk-container-id-9 div.sk-label:hover label.sk-toggleable__label {background-color: #d4ebff;}#sk-container-id-9 div.sk-serial::before {content: \"\";position: absolute;border-left: 1px solid gray;box-sizing: border-box;top: 0;bottom: 0;left: 50%;z-index: 0;}#sk-container-id-9 div.sk-serial {display: flex;flex-direction: column;align-items: center;background-color: white;padding-right: 0.2em;padding-left: 0.2em;position: relative;}#sk-container-id-9 div.sk-item {position: relative;z-index: 1;}#sk-container-id-9 div.sk-parallel {display: flex;align-items: stretch;justify-content: center;background-color: white;position: relative;}#sk-container-id-9 div.sk-item::before, #sk-container-id-9 div.sk-parallel-item::before {content: \"\";position: absolute;border-left: 1px solid gray;box-sizing: border-box;top: 0;bottom: 0;left: 50%;z-index: -1;}#sk-container-id-9 div.sk-parallel-item {display: flex;flex-direction: column;z-index: 1;position: relative;background-color: white;}#sk-container-id-9 div.sk-parallel-item:first-child::after {align-self: flex-end;width: 50%;}#sk-container-id-9 div.sk-parallel-item:last-child::after {align-self: flex-start;width: 50%;}#sk-container-id-9 div.sk-parallel-item:only-child::after {width: 0;}#sk-container-id-9 div.sk-dashed-wrapped {border: 1px dashed gray;margin: 0 0.4em 0.5em 0.4em;box-sizing: border-box;padding-bottom: 0.4em;background-color: white;}#sk-container-id-9 div.sk-label label {font-family: monospace;font-weight: bold;display: inline-block;line-height: 1.2em;}#sk-container-id-9 div.sk-label-container {text-align: center;}#sk-container-id-9 div.sk-container {/* jupyter's `normalize.less` sets `[hidden] { display: none; }` but bootstrap.min.css set `[hidden] { display: none !important; }` so we also need the `!important` here to be able to override the default hidden behavior on the sphinx rendered scikit-learn.org. See: https://github.com/scikit-learn/scikit-learn/issues/21755 */display: inline-block !important;position: relative;}#sk-container-id-9 div.sk-text-repr-fallback {display: none;}</style><div id=\"sk-container-id-9\" class=\"sk-top-container\"><div class=\"sk-text-repr-fallback\"><pre>RandomForestClassifier(random_state=1)</pre><b>In a Jupyter environment, please rerun this cell to show the HTML representation or trust the notebook. <br />On GitHub, the HTML representation is unable to render, please try loading this page with nbviewer.org.</b></div><div class=\"sk-container\" hidden><div class=\"sk-item\"><div class=\"sk-estimator sk-toggleable\"><input class=\"sk-toggleable__control sk-hidden--visually\" id=\"sk-estimator-id-9\" type=\"checkbox\" checked><label for=\"sk-estimator-id-9\" class=\"sk-toggleable__label sk-toggleable__label-arrow\">RandomForestClassifier</label><div class=\"sk-toggleable__content\"><pre>RandomForestClassifier(random_state=1)</pre></div></div></div></div></div>"
      ],
      "text/plain": [
       "RandomForestClassifier(random_state=1)"
      ]
     },
     "execution_count": 183,
     "metadata": {},
     "output_type": "execute_result"
    }
   ],
   "source": [
    "rf =RandomForestClassifier(random_state=1)\n",
    "rf.fit(normalised_train_df,y_balanced)"
   ]
  },
  {
   "cell_type": "code",
   "execution_count": 184,
   "id": "88ac203e",
   "metadata": {},
   "outputs": [],
   "source": [
    "prediction = rf.predict(normalised_test_df)"
   ]
  },
  {
   "cell_type": "code",
   "execution_count": 185,
   "id": "4e012c1c",
   "metadata": {},
   "outputs": [
    {
     "data": {
      "text/plain": [
       "0.914"
      ]
     },
     "execution_count": 185,
     "metadata": {},
     "output_type": "execute_result"
    }
   ],
   "source": [
    "accuracy_score(y_test,prediction)"
   ]
  },
  {
   "cell_type": "code",
   "execution_count": 186,
   "id": "c708dd2b",
   "metadata": {},
   "outputs": [],
   "source": [
    "from xgboost import XGBClassifier"
   ]
  },
  {
   "cell_type": "code",
   "execution_count": 187,
   "id": "72a74fdd",
   "metadata": {
    "scrolled": true
   },
   "outputs": [
    {
     "data": {
      "text/html": [
       "<style>#sk-container-id-10 {color: black;background-color: white;}#sk-container-id-10 pre{padding: 0;}#sk-container-id-10 div.sk-toggleable {background-color: white;}#sk-container-id-10 label.sk-toggleable__label {cursor: pointer;display: block;width: 100%;margin-bottom: 0;padding: 0.3em;box-sizing: border-box;text-align: center;}#sk-container-id-10 label.sk-toggleable__label-arrow:before {content: \"▸\";float: left;margin-right: 0.25em;color: #696969;}#sk-container-id-10 label.sk-toggleable__label-arrow:hover:before {color: black;}#sk-container-id-10 div.sk-estimator:hover label.sk-toggleable__label-arrow:before {color: black;}#sk-container-id-10 div.sk-toggleable__content {max-height: 0;max-width: 0;overflow: hidden;text-align: left;background-color: #f0f8ff;}#sk-container-id-10 div.sk-toggleable__content pre {margin: 0.2em;color: black;border-radius: 0.25em;background-color: #f0f8ff;}#sk-container-id-10 input.sk-toggleable__control:checked~div.sk-toggleable__content {max-height: 200px;max-width: 100%;overflow: auto;}#sk-container-id-10 input.sk-toggleable__control:checked~label.sk-toggleable__label-arrow:before {content: \"▾\";}#sk-container-id-10 div.sk-estimator input.sk-toggleable__control:checked~label.sk-toggleable__label {background-color: #d4ebff;}#sk-container-id-10 div.sk-label input.sk-toggleable__control:checked~label.sk-toggleable__label {background-color: #d4ebff;}#sk-container-id-10 input.sk-hidden--visually {border: 0;clip: rect(1px 1px 1px 1px);clip: rect(1px, 1px, 1px, 1px);height: 1px;margin: -1px;overflow: hidden;padding: 0;position: absolute;width: 1px;}#sk-container-id-10 div.sk-estimator {font-family: monospace;background-color: #f0f8ff;border: 1px dotted black;border-radius: 0.25em;box-sizing: border-box;margin-bottom: 0.5em;}#sk-container-id-10 div.sk-estimator:hover {background-color: #d4ebff;}#sk-container-id-10 div.sk-parallel-item::after {content: \"\";width: 100%;border-bottom: 1px solid gray;flex-grow: 1;}#sk-container-id-10 div.sk-label:hover label.sk-toggleable__label {background-color: #d4ebff;}#sk-container-id-10 div.sk-serial::before {content: \"\";position: absolute;border-left: 1px solid gray;box-sizing: border-box;top: 0;bottom: 0;left: 50%;z-index: 0;}#sk-container-id-10 div.sk-serial {display: flex;flex-direction: column;align-items: center;background-color: white;padding-right: 0.2em;padding-left: 0.2em;position: relative;}#sk-container-id-10 div.sk-item {position: relative;z-index: 1;}#sk-container-id-10 div.sk-parallel {display: flex;align-items: stretch;justify-content: center;background-color: white;position: relative;}#sk-container-id-10 div.sk-item::before, #sk-container-id-10 div.sk-parallel-item::before {content: \"\";position: absolute;border-left: 1px solid gray;box-sizing: border-box;top: 0;bottom: 0;left: 50%;z-index: -1;}#sk-container-id-10 div.sk-parallel-item {display: flex;flex-direction: column;z-index: 1;position: relative;background-color: white;}#sk-container-id-10 div.sk-parallel-item:first-child::after {align-self: flex-end;width: 50%;}#sk-container-id-10 div.sk-parallel-item:last-child::after {align-self: flex-start;width: 50%;}#sk-container-id-10 div.sk-parallel-item:only-child::after {width: 0;}#sk-container-id-10 div.sk-dashed-wrapped {border: 1px dashed gray;margin: 0 0.4em 0.5em 0.4em;box-sizing: border-box;padding-bottom: 0.4em;background-color: white;}#sk-container-id-10 div.sk-label label {font-family: monospace;font-weight: bold;display: inline-block;line-height: 1.2em;}#sk-container-id-10 div.sk-label-container {text-align: center;}#sk-container-id-10 div.sk-container {/* jupyter's `normalize.less` sets `[hidden] { display: none; }` but bootstrap.min.css set `[hidden] { display: none !important; }` so we also need the `!important` here to be able to override the default hidden behavior on the sphinx rendered scikit-learn.org. See: https://github.com/scikit-learn/scikit-learn/issues/21755 */display: inline-block !important;position: relative;}#sk-container-id-10 div.sk-text-repr-fallback {display: none;}</style><div id=\"sk-container-id-10\" class=\"sk-top-container\"><div class=\"sk-text-repr-fallback\"><pre>XGBClassifier(base_score=0.5, booster=&#x27;gbtree&#x27;, callbacks=None,\n",
       "              colsample_bylevel=1, colsample_bynode=1, colsample_bytree=1,\n",
       "              early_stopping_rounds=None, enable_categorical=False,\n",
       "              eval_metric=None, feature_types=None, gamma=0, gpu_id=-1,\n",
       "              grow_policy=&#x27;depthwise&#x27;, importance_type=None,\n",
       "              interaction_constraints=&#x27;&#x27;, learning_rate=0.300000012,\n",
       "              max_bin=256, max_cat_threshold=64, max_cat_to_onehot=4,\n",
       "              max_delta_step=0, max_depth=6, max_leaves=0, min_child_weight=1,\n",
       "              missing=nan, monotone_constraints=&#x27;()&#x27;, n_estimators=100,\n",
       "              n_jobs=0, num_parallel_tree=1, predictor=&#x27;auto&#x27;, random_state=1, ...)</pre><b>In a Jupyter environment, please rerun this cell to show the HTML representation or trust the notebook. <br />On GitHub, the HTML representation is unable to render, please try loading this page with nbviewer.org.</b></div><div class=\"sk-container\" hidden><div class=\"sk-item\"><div class=\"sk-estimator sk-toggleable\"><input class=\"sk-toggleable__control sk-hidden--visually\" id=\"sk-estimator-id-10\" type=\"checkbox\" checked><label for=\"sk-estimator-id-10\" class=\"sk-toggleable__label sk-toggleable__label-arrow\">XGBClassifier</label><div class=\"sk-toggleable__content\"><pre>XGBClassifier(base_score=0.5, booster=&#x27;gbtree&#x27;, callbacks=None,\n",
       "              colsample_bylevel=1, colsample_bynode=1, colsample_bytree=1,\n",
       "              early_stopping_rounds=None, enable_categorical=False,\n",
       "              eval_metric=None, feature_types=None, gamma=0, gpu_id=-1,\n",
       "              grow_policy=&#x27;depthwise&#x27;, importance_type=None,\n",
       "              interaction_constraints=&#x27;&#x27;, learning_rate=0.300000012,\n",
       "              max_bin=256, max_cat_threshold=64, max_cat_to_onehot=4,\n",
       "              max_delta_step=0, max_depth=6, max_leaves=0, min_child_weight=1,\n",
       "              missing=nan, monotone_constraints=&#x27;()&#x27;, n_estimators=100,\n",
       "              n_jobs=0, num_parallel_tree=1, predictor=&#x27;auto&#x27;, random_state=1, ...)</pre></div></div></div></div></div>"
      ],
      "text/plain": [
       "XGBClassifier(base_score=0.5, booster='gbtree', callbacks=None,\n",
       "              colsample_bylevel=1, colsample_bynode=1, colsample_bytree=1,\n",
       "              early_stopping_rounds=None, enable_categorical=False,\n",
       "              eval_metric=None, feature_types=None, gamma=0, gpu_id=-1,\n",
       "              grow_policy='depthwise', importance_type=None,\n",
       "              interaction_constraints='', learning_rate=0.300000012,\n",
       "              max_bin=256, max_cat_threshold=64, max_cat_to_onehot=4,\n",
       "              max_delta_step=0, max_depth=6, max_leaves=0, min_child_weight=1,\n",
       "              missing=nan, monotone_constraints='()', n_estimators=100,\n",
       "              n_jobs=0, num_parallel_tree=1, predictor='auto', random_state=1, ...)"
      ]
     },
     "execution_count": 187,
     "metadata": {},
     "output_type": "execute_result"
    }
   ],
   "source": [
    "xgb =XGBClassifier(random_state=1)\n",
    "xgb.fit(normalised_train_df,y_balanced)"
   ]
  },
  {
   "cell_type": "code",
   "execution_count": 188,
   "id": "08d7047e",
   "metadata": {},
   "outputs": [
    {
     "data": {
      "text/plain": [
       "0.94"
      ]
     },
     "execution_count": 188,
     "metadata": {},
     "output_type": "execute_result"
    }
   ],
   "source": [
    "accuracy_score(y_test, xgb.predict(normalised_test_df))"
   ]
  },
  {
   "cell_type": "code",
   "execution_count": 189,
   "id": "aa0b4e30",
   "metadata": {
    "scrolled": true
   },
   "outputs": [
    {
     "name": "stdout",
     "output_type": "stream",
     "text": [
      "Defaulting to user installation because normal site-packages is not writeable\n",
      "Requirement already satisfied: lightgbm in c:\\users\\ibk\\appdata\\roaming\\python\\python39\\site-packages (3.3.3)\n",
      "Requirement already satisfied: scipy in c:\\programdata\\anaconda3\\lib\\site-packages (from lightgbm) (1.9.1)\n",
      "Requirement already satisfied: numpy in c:\\programdata\\anaconda3\\lib\\site-packages (from lightgbm) (1.21.5)\n",
      "Requirement already satisfied: wheel in c:\\programdata\\anaconda3\\lib\\site-packages (from lightgbm) (0.37.1)\n",
      "Requirement already satisfied: scikit-learn!=0.22.0 in c:\\users\\ibk\\appdata\\roaming\\python\\python39\\site-packages (from lightgbm) (1.1.2)\n",
      "Requirement already satisfied: threadpoolctl>=2.0.0 in c:\\programdata\\anaconda3\\lib\\site-packages (from scikit-learn!=0.22.0->lightgbm) (2.2.0)\n",
      "Requirement already satisfied: joblib>=1.0.0 in c:\\programdata\\anaconda3\\lib\\site-packages (from scikit-learn!=0.22.0->lightgbm) (1.1.0)\n",
      "Note: you may need to restart the kernel to use updated packages.\n"
     ]
    }
   ],
   "source": [
    "pip install lightgbm"
   ]
  },
  {
   "cell_type": "code",
   "execution_count": 190,
   "id": "160b7294",
   "metadata": {},
   "outputs": [],
   "source": [
    "from lightgbm import LGBMClassifier"
   ]
  },
  {
   "cell_type": "code",
   "execution_count": 191,
   "id": "cc7948a9",
   "metadata": {},
   "outputs": [
    {
     "data": {
      "text/plain": [
       "0.934"
      ]
     },
     "execution_count": 191,
     "metadata": {},
     "output_type": "execute_result"
    }
   ],
   "source": [
    "lgb = LGBMClassifier(random_state=1)\n",
    "lgb.fit(normalised_train_df,y_balanced)\n",
    "accuracy_score(y_test, lgb.predict(normalised_test_df))"
   ]
  },
  {
   "cell_type": "code",
   "execution_count": null,
   "id": "f7227619",
   "metadata": {},
   "outputs": [],
   "source": []
  }
 ],
 "metadata": {
  "kernelspec": {
   "display_name": "Python 3 (ipykernel)",
   "language": "python",
   "name": "python3"
  },
  "language_info": {
   "codemirror_mode": {
    "name": "ipython",
    "version": 3
   },
   "file_extension": ".py",
   "mimetype": "text/x-python",
   "name": "python",
   "nbconvert_exporter": "python",
   "pygments_lexer": "ipython3",
   "version": "3.9.13"
  }
 },
 "nbformat": 4,
 "nbformat_minor": 5
}
